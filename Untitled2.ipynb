{
 "cells": [
  {
   "cell_type": "markdown",
   "id": "b9feedfe-04cb-4069-832a-7277cfc4e9bf",
   "metadata": {},
   "source": [
    "Дана переменная, в которой хранится слово из латинских букв. Напишите код, который выводит на экран:\n",
    "\n",
    "среднюю букву, если число букв в слове нечетное;\n",
    "две средних буквы, если число букв четное."
   ]
  },
  {
   "cell_type": "code",
   "execution_count": 2,
   "id": "eaca66f7-ff4b-4957-a4f7-9d7c589f010b",
   "metadata": {},
   "outputs": [
    {
     "name": "stdin",
     "output_type": "stream",
     "text": [
      "Введите слово:  letter\n"
     ]
    },
    {
     "name": "stdout",
     "output_type": "stream",
     "text": [
      "Две средних буквы: tt\n"
     ]
    }
   ],
   "source": [
    "word = input(\"Введите слово: \")\n",
    "\n",
    "length = len(word)\n",
    "middle= length // 2\n",
    "\n",
    "if length % 2 == 1:\n",
    "    # Нечетное число букв\n",
    "    middle_letter = word[middle]\n",
    "    print(\"Средняя буква:\", middle_letter)\n",
    "else:\n",
    "    # Четное число букв\n",
    "    middle_letters = word[middle - 1:middle + 1]\n",
    "    print(\"Две средних буквы:\", middle_letters)"
   ]
  },
  {
   "cell_type": "markdown",
   "id": "10adf70b-618f-4338-970b-09c761247531",
   "metadata": {},
   "source": [
    "Напишите программу, которая последовательно запрашивает у пользователя числа (по одному за раз) и после первого нуля выводит сумму всех ранее введенных чисел."
   ]
  },
  {
   "cell_type": "code",
   "execution_count": null,
   "id": "d1b980ab-9008-4cc3-ad40-541291171177",
   "metadata": {},
   "outputs": [],
   "source": [
    "sum = 0\n",
    "\n",
    "while True:\n",
    "    num = int(input(\"Введите число: \"))\n",
    "    if num == 0:\n",
    "        break\n",
    "    sum += num\n",
    "\n",
    "print(\"Сумма введенных чисел:\", sum)"
   ]
  },
  {
   "cell_type": "markdown",
   "id": "c077dc29-a42a-4f92-9f6b-8249e45c5147",
   "metadata": {},
   "source": [
    "Мы делаем MVP dating-сервиса, и у нас есть список парней и девушек.\n",
    "Выдвигаем гипотезу: лучшие рекомендации мы получим, если просто отсортируем имена по алфавиту и познакомим людей с одинаковыми индексами после сортировки! Но мы не будем никого знакомить, если кто-то может остаться без пары:"
   ]
  },
  {
   "cell_type": "code",
   "execution_count": 4,
   "id": "0ff99fe8-7ffd-448e-9e66-1f17aeb3d83b",
   "metadata": {},
   "outputs": [
    {
     "name": "stdout",
     "output_type": "stream",
     "text": [
      "Идеальные пары:\n",
      "Alex и Emma\n",
      "Arthur и Kate\n",
      "John и Kira\n",
      "Peter и Liza\n",
      "Richard и Trisha\n"
     ]
    }
   ],
   "source": [
    "boys = ['Peter', 'Alex', 'John', 'Arthur', 'Richard']\n",
    "girls = ['Kate', 'Liza', 'Kira', 'Emma', 'Trisha']\n",
    "boys.sort()\n",
    "girls.sort()\n",
    "if len(boys) == len(girls):\n",
    "  print('Идеальные пары:')\n",
    "  for boy, girl in zip(boys, girls):\n",
    "    print(boy, 'и', girl)\n",
    "elif len(boys) > len (girls):\n",
    "  print(f'Кто-то может остаться без пары, добавьте {len(boys) - len (girls)} мальчика')\n",
    "else :\n",
    "  print(f'Кто-то может остаться без пары, добавьте {len(girls) - len (boys)} девочку')"
   ]
  },
  {
   "cell_type": "markdown",
   "id": "7671f0fc-21be-4266-ab26-66aa6756b747",
   "metadata": {},
   "source": [
    "У нас есть список, содержащий информацию о среднедневной температуре в Фаренгейтах за произвольный период по странам (структура данных в примере). Необходимо написать код, который рассчитает среднюю температуру за период в Цельсиях(!) для каждой страны."
   ]
  },
  {
   "cell_type": "code",
   "execution_count": 15,
   "id": "2d2e096c-7412-4e07-9638-0a570a72134a",
   "metadata": {},
   "outputs": [
    {
     "name": "stdout",
     "output_type": "stream",
     "text": [
      "Средняя температура в Таиланд: 23.85714285714285°C\n",
      "Средняя температура в Германия: 13.799999999999999°C\n",
      "Средняя температура в Россия: 3.714285714285717°C\n",
      "Средняя температура в Польша: 11.999999999999996°C\n"
     ]
    }
   ],
   "source": [
    "countries_temperature = [\n",
    "    ['Таиланд', [75.2, 77, 78.8, 73.4, 68, 75.2, 77]],\n",
    "    ['Германия', [57.2, 55.4, 59, 59, 53.6]],\n",
    "    ['Россия', [35.6, 37.4, 39.2, 41, 42.8, 39.2, 35.6]],\n",
    "    ['Польша', [50, 50, 53.6, 57.2, 55.4, 55.4]]\n",
    "]\n",
    "\n",
    "for country, temps in countries_temperature:\n",
    "    average_temp = sum(temps) / len(temps)\n",
    "    celsius_temps = (average_temp - 32) * 5/9\n",
    "    print(f'Средняя температура в {country}: {celsius_temps}°C')\n"
   ]
  },
  {
   "cell_type": "code",
   "execution_count": null,
   "id": "76d9bc94-a67d-47c5-ab76-bd712a3a08c3",
   "metadata": {},
   "outputs": [],
   "source": []
  }
 ],
 "metadata": {
  "kernelspec": {
   "display_name": "Python 3 (ipykernel)",
   "language": "python",
   "name": "python3"
  },
  "language_info": {
   "codemirror_mode": {
    "name": "ipython",
    "version": 3
   },
   "file_extension": ".py",
   "mimetype": "text/x-python",
   "name": "python",
   "nbconvert_exporter": "python",
   "pygments_lexer": "ipython3",
   "version": "3.8.9"
  }
 },
 "nbformat": 4,
 "nbformat_minor": 5
}
